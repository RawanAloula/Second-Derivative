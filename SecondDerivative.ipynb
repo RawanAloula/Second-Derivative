{
 "cells": [
  {
   "cell_type": "code",
   "execution_count": null,
   "metadata": {
    "collapsed": true
   },
   "outputs": [],
   "source": [
    "%matplotlib inline\n",
    "%precision 16\n",
    "from __future__ import print_function\n",
    "import math\n",
    "import cmath\n",
    "import numpy\n",
    "import numpy.fft\n",
    "import numpy.linalg\n",
    "import scipy\n",
    "import scipy.linalg\n",
    "import matplotlib.pyplot as plt"
   ]
  },
  {
   "cell_type": "markdown",
   "metadata": {},
   "source": [
    "** Evaluates the function f at equally-spaced points including the boundaries**"
   ]
  },
  {
   "cell_type": "code",
   "execution_count": null,
   "metadata": {
    "collapsed": true
   },
   "outputs": [],
   "source": [
    "# The function takes the boundaries a and b and the number of points N in addition to the function being evaluated\n",
    "\n",
    "def eval_linspace(f, a, b, N):    \n",
    "\n",
    "    d = (b - a) / (N+1)\n",
    "    \n",
    "    dt=[]\n",
    "    D = 0\n",
    "    for i in range(0,N+2):\n",
    "        D = a + (i*d)\n",
    "        dt.append(D)\n",
    "    \n",
    "    f_eval = []\n",
    "    F = 0\n",
    "    for i in dt:\n",
    "        F = f(i)\n",
    "        f_eval.append(F)\n",
    "        \n",
    "    return f_eval"
   ]
  },
  {
   "cell_type": "markdown",
   "metadata": {},
   "source": [
    "** Compute second derivative **\n",
    "\n",
    "using centred diffrences formula we evalue the function at three points as follwing \n",
    "\n",
    "$f''(x_n) ~= \\frac{1}{\\Delta x} ~ \\Big[ \\frac{f_{n+1} - f_{n}}{\\Delta x} - \\frac{f_{n} - f_{n-1}}{\\Delta x}      \\Big] $\n",
    "\n",
    "\n",
    "$~~~~~~~~~~~= \\frac{f_{n+1} ~-~ 2 ~f_{n} ~+ ~f_{n-1}}{\\Delta x ^2}$"
   ]
  },
  {
   "cell_type": "code",
   "execution_count": null,
   "metadata": {
    "collapsed": true
   },
   "outputs": [],
   "source": [
    "def compute_dbl_prime(f, a, b, N):\n",
    "    \n",
    "    f_eval = numpy.asarray(eval_linspace(f, a, b, N))\n",
    "       \n",
    "    dx = (b - a) / (N+1)\n",
    "    \n",
    "    f_dbl_prime = []\n",
    "    \n",
    "    f_dp = 0\n",
    "    for n in range(1, N + 1):\n",
    "        f_dp = (f_eval[n+1] - 2.0 * f_eval[n] + f_eval[n-1]) / (dx**2.0)\n",
    "        f_dbl_prime.append(f_dp)\n",
    "    \n",
    "    # points at edge of domain\n",
    "    f_dbl_prime.insert(0,  (2.0 * f_eval[0] - 5.0 * f_eval[1] + 4.0 * f_eval[2] - f_eval[3]) / dx**2) \n",
    "    f_dbl_prime.insert(-1, (2.0 * f_eval[-1] - 5.0 * f_eval[-2] + 4.0 * f_eval[-3] - f_eval[-4]) / dx**2)\n",
    "    \n",
    "    #print ('len f = ', len(f_dbl_prime))\n",
    "    #print ('len f_eval = ', len(f_eval))\n",
    "    \n",
    "    return f_dbl_prime"
   ]
  }
 ],
 "metadata": {
  "kernelspec": {
   "display_name": "Python [conda root]",
   "language": "python",
   "name": "conda-root-py"
  },
  "language_info": {
   "codemirror_mode": {
    "name": "ipython",
    "version": 2
   },
   "file_extension": ".py",
   "mimetype": "text/x-python",
   "name": "python",
   "nbconvert_exporter": "python",
   "pygments_lexer": "ipython2",
   "version": "2.7.12"
  }
 },
 "nbformat": 4,
 "nbformat_minor": 1
}
